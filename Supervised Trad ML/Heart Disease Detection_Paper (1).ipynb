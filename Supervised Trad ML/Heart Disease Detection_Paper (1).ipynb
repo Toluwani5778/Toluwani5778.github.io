{
 "cells": [
  {
   "cell_type": "markdown",
   "id": "75421717",
   "metadata": {},
   "source": [
    "Title: \"Harnessing Machine Learning for Precision Medicine: A Comparative Study of Predictive Models in Oncology, Endocrinology, and Cardiology\"\n",
    "\n",
    "Abstract:\n",
    "Precision medicine aims to optimize patient care by tailoring treatments to individuals based on their genetic, environmental, and lifestyle factors. Machine learning has emerged as a powerful tool in the pursuit of precision medicine, offering the potential to develop predictive models for various medical conditions. In this study, we systematically evaluate and compare the performance of several machine learning algorithms on three medical classification problems: breast cancer diagnosis, diabetes prediction, and heart disease risk assessment. By applying logistic regression, decision trees, random forests, gradient boosting, and other algorithms, we identify the most effective techniques for each dataset. Our comprehensive analysis provides insights into the applicability and utility of machine learning in precision medicine, highlighting its potential to enhance clinical decision-making and improve patient outcomes.\n",
    "\n",
    "Keywords: machine learning, precision medicine, breast cancer, diabetes, heart disease, classification, predictive modeling\n",
    "\n",
    "Introduction\n",
    "Precision medicine represents a paradigm shift in healthcare, focusing on the development of personalized treatments tailored to the unique genetic, environmental, and lifestyle factors of individual patients. Machine learning techniques have emerged as valuable tools for realizing the promise of precision medicine, as they can be used to build predictive models capable of identifying patterns and relationships within complex medical data.\n",
    "\n",
    "In this study, we aim to evaluate and compare the performance of various machine learning algorithms in the context of three distinct medical classification problems: breast cancer diagnosis, diabetes prediction, and heart disease risk assessment. These conditions have been chosen due to their significant impact on global health and their potential to benefit from more accurate and personalized diagnostic and prognostic tools.\n",
    "\n",
    "Our objectives are threefold:\n",
    "\n",
    "1. To apply a range of machine learning algorithms, including logistic regression, decision trees, random forests, gradient boosting, and others, to each of the medical datasets.\n",
    "2. To systematically evaluate and compare the performance of these algorithms based on relevant metrics, such as accuracy, precision, recall, F1-score, and area under the receiver operating characteristic curve (AUC-ROC).\n",
    "3. To identify the most effective techniques for each medical classification problem, providing insights into the utility of machine learning in precision medicine and its potential to support clinical decision-making.  \n",
    "\n",
    "The remainder of this paper is organized as follows. Section 2 presents a review of the relevant literature on machine learning applications in precision medicine and medical classification problems. In Section 3, we describe the datasets used in our study, along with the preprocessing and feature engineering techniques applied to each. Section 4 outlines the machine learning algorithms employed in our analysis and provides details on the model training, validation, and evaluation process. The results of our comparative study are presented and discussed in Section 5, followed by a broader discussion of our findings and their implications for the field of precision medicine in Section 6. Finally, we conclude the paper in Section 7 by summarizing our key findings and suggesting directions for future research."
   ]
  },
  {
   "cell_type": "code",
   "execution_count": 43,
   "id": "2cbaa87d",
   "metadata": {},
   "outputs": [],
   "source": [
    "# Importing Necessary Libraries\n",
    "import pandas as pd\n",
    "import numpy as np\n",
    "import matplotlib.pyplot as plt\n",
    "import seaborn as sns\n",
    "import requests\n",
    "\n",
    "# Download the dataset\n",
    "url = \"https://archive.ics.uci.edu/ml/machine-learning-databases/heart-disease/processed.cleveland.data\"\n",
    "response = requests.get(url)\n",
    "with open(\"processed.cleveland.data\", \"wb\") as f:\n",
    "    f.write(response.content)\n",
    "\n",
    "# Load the dataset\n",
    "column_names = ['age', 'sex', 'cp', 'trestbps', 'chol', 'fbs', 'restecg', 'thalach', 'exang', 'oldpeak', 'slope', 'ca', 'thal', 'num']\n",
    "df = pd.read_csv(\"processed.cleveland.data\", names=column_names, na_values=\"?\")"
   ]
  },
  {
   "cell_type": "markdown",
   "id": "201d67c7",
   "metadata": {},
   "source": [
    "The na_values parameter in the pd.read_csv() function is used to specify additional strings to recognize as NaN (Not a Number) or missing values when reading a CSV file. In your example, the na_values=\"?\" argument indicates that if there is a question mark \"?\" in the dataset, it should be considered as a missing value (NaN) while reading the CSV file.\n",
    "\n",
    "By setting na_values=\"?\", you are telling pandas to treat any cell containing a question mark as a missing value, which can be helpful for handling and processing the data later in the analysis."
   ]
  },
  {
   "cell_type": "code",
   "execution_count": 44,
   "id": "a5b49690",
   "metadata": {},
   "outputs": [
    {
     "name": "stdout",
     "output_type": "stream",
     "text": [
      "age         0\n",
      "sex         0\n",
      "cp          0\n",
      "trestbps    0\n",
      "chol        0\n",
      "fbs         0\n",
      "restecg     0\n",
      "thalach     0\n",
      "exang       0\n",
      "oldpeak     0\n",
      "slope       0\n",
      "ca          4\n",
      "thal        2\n",
      "num         0\n",
      "dtype: int64\n"
     ]
    }
   ],
   "source": [
    "# Check for null values in columns\n",
    "null_values = df.isnull().sum()\n",
    "print(null_values)"
   ]
  },
  {
   "cell_type": "code",
   "execution_count": 45,
   "id": "5101e4ae",
   "metadata": {},
   "outputs": [],
   "source": [
    "# Preprocessing\n",
    "# Replace missing values with the median of the corresponding feature\n",
    "for column in df.columns:\n",
    "    df[column].fillna(df[column].median(), inplace=True)"
   ]
  },
  {
   "cell_type": "code",
   "execution_count": 46,
   "id": "30c6fc3d",
   "metadata": {},
   "outputs": [
    {
     "data": {
      "text/plain": [
       "num\n",
       "0    164\n",
       "1     55\n",
       "2     36\n",
       "3     35\n",
       "4     13\n",
       "Name: count, dtype: int64"
      ]
     },
     "execution_count": 46,
     "metadata": {},
     "output_type": "execute_result"
    }
   ],
   "source": [
    "df['num'].value_counts()"
   ]
  },
  {
   "cell_type": "markdown",
   "id": "9c24b060",
   "metadata": {},
   "source": [
    "The target variable 'num' originally has 5 classes, representing the different levels of heart disease severity. Here's what each class represents:\n",
    "\n",
    "0: Absence of heart disease  \n",
    "\n",
    "1: Presence of heart disease with mild severity  \n",
    "\n",
    "2: Presence of heart disease with moderate severity  \n",
    "\n",
    "3: Presence of heart disease with high severity  \n",
    "\n",
    "4: Presence of heart disease with very high severity  \n",
    "\n",
    "the target variable 'num' is transformed into a binary classification problem by applying the following lambda function:  \n",
    "\n",
    "df['num'] = df['num'].apply(lambda x: 1 if x > 0 else 0)  \n",
    "\n",
    "After this transformation, the classes become:  \n",
    "\n",
    "\n",
    "0: Absence of heart disease  \n",
    "\n",
    "1: Presence of heart disease (regardless of severity)"
   ]
  },
  {
   "cell_type": "code",
   "execution_count": 47,
   "id": "dff11267",
   "metadata": {},
   "outputs": [
    {
     "data": {
      "text/html": [
       "<div>\n",
       "<style scoped>\n",
       "    .dataframe tbody tr th:only-of-type {\n",
       "        vertical-align: middle;\n",
       "    }\n",
       "\n",
       "    .dataframe tbody tr th {\n",
       "        vertical-align: top;\n",
       "    }\n",
       "\n",
       "    .dataframe thead th {\n",
       "        text-align: right;\n",
       "    }\n",
       "</style>\n",
       "<table border=\"1\" class=\"dataframe\">\n",
       "  <thead>\n",
       "    <tr style=\"text-align: right;\">\n",
       "      <th></th>\n",
       "      <th>age</th>\n",
       "      <th>sex</th>\n",
       "      <th>cp</th>\n",
       "      <th>trestbps</th>\n",
       "      <th>chol</th>\n",
       "      <th>fbs</th>\n",
       "      <th>restecg</th>\n",
       "      <th>thalach</th>\n",
       "      <th>exang</th>\n",
       "      <th>oldpeak</th>\n",
       "      <th>slope</th>\n",
       "      <th>ca</th>\n",
       "      <th>thal</th>\n",
       "      <th>num</th>\n",
       "    </tr>\n",
       "  </thead>\n",
       "  <tbody>\n",
       "    <tr>\n",
       "      <th>0</th>\n",
       "      <td>63.0</td>\n",
       "      <td>1.0</td>\n",
       "      <td>1.0</td>\n",
       "      <td>145.0</td>\n",
       "      <td>233.0</td>\n",
       "      <td>1.0</td>\n",
       "      <td>2.0</td>\n",
       "      <td>150.0</td>\n",
       "      <td>0.0</td>\n",
       "      <td>2.3</td>\n",
       "      <td>3.0</td>\n",
       "      <td>0.0</td>\n",
       "      <td>6.0</td>\n",
       "      <td>0</td>\n",
       "    </tr>\n",
       "    <tr>\n",
       "      <th>1</th>\n",
       "      <td>67.0</td>\n",
       "      <td>1.0</td>\n",
       "      <td>4.0</td>\n",
       "      <td>160.0</td>\n",
       "      <td>286.0</td>\n",
       "      <td>0.0</td>\n",
       "      <td>2.0</td>\n",
       "      <td>108.0</td>\n",
       "      <td>1.0</td>\n",
       "      <td>1.5</td>\n",
       "      <td>2.0</td>\n",
       "      <td>3.0</td>\n",
       "      <td>3.0</td>\n",
       "      <td>2</td>\n",
       "    </tr>\n",
       "    <tr>\n",
       "      <th>2</th>\n",
       "      <td>67.0</td>\n",
       "      <td>1.0</td>\n",
       "      <td>4.0</td>\n",
       "      <td>120.0</td>\n",
       "      <td>229.0</td>\n",
       "      <td>0.0</td>\n",
       "      <td>2.0</td>\n",
       "      <td>129.0</td>\n",
       "      <td>1.0</td>\n",
       "      <td>2.6</td>\n",
       "      <td>2.0</td>\n",
       "      <td>2.0</td>\n",
       "      <td>7.0</td>\n",
       "      <td>1</td>\n",
       "    </tr>\n",
       "    <tr>\n",
       "      <th>3</th>\n",
       "      <td>37.0</td>\n",
       "      <td>1.0</td>\n",
       "      <td>3.0</td>\n",
       "      <td>130.0</td>\n",
       "      <td>250.0</td>\n",
       "      <td>0.0</td>\n",
       "      <td>0.0</td>\n",
       "      <td>187.0</td>\n",
       "      <td>0.0</td>\n",
       "      <td>3.5</td>\n",
       "      <td>3.0</td>\n",
       "      <td>0.0</td>\n",
       "      <td>3.0</td>\n",
       "      <td>0</td>\n",
       "    </tr>\n",
       "    <tr>\n",
       "      <th>4</th>\n",
       "      <td>41.0</td>\n",
       "      <td>0.0</td>\n",
       "      <td>2.0</td>\n",
       "      <td>130.0</td>\n",
       "      <td>204.0</td>\n",
       "      <td>0.0</td>\n",
       "      <td>2.0</td>\n",
       "      <td>172.0</td>\n",
       "      <td>0.0</td>\n",
       "      <td>1.4</td>\n",
       "      <td>1.0</td>\n",
       "      <td>0.0</td>\n",
       "      <td>3.0</td>\n",
       "      <td>0</td>\n",
       "    </tr>\n",
       "  </tbody>\n",
       "</table>\n",
       "</div>"
      ],
      "text/plain": [
       "    age  sex   cp  trestbps   chol  fbs  restecg  thalach  exang  oldpeak   \n",
       "0  63.0  1.0  1.0     145.0  233.0  1.0      2.0    150.0    0.0      2.3  \\\n",
       "1  67.0  1.0  4.0     160.0  286.0  0.0      2.0    108.0    1.0      1.5   \n",
       "2  67.0  1.0  4.0     120.0  229.0  0.0      2.0    129.0    1.0      2.6   \n",
       "3  37.0  1.0  3.0     130.0  250.0  0.0      0.0    187.0    0.0      3.5   \n",
       "4  41.0  0.0  2.0     130.0  204.0  0.0      2.0    172.0    0.0      1.4   \n",
       "\n",
       "   slope   ca  thal  num  \n",
       "0    3.0  0.0   6.0    0  \n",
       "1    2.0  3.0   3.0    2  \n",
       "2    2.0  2.0   7.0    1  \n",
       "3    3.0  0.0   3.0    0  \n",
       "4    1.0  0.0   3.0    0  "
      ]
     },
     "execution_count": 47,
     "metadata": {},
     "output_type": "execute_result"
    }
   ],
   "source": [
    "df.head()"
   ]
  },
  {
   "cell_type": "code",
   "execution_count": 48,
   "id": "dc672988",
   "metadata": {},
   "outputs": [
    {
     "data": {
      "image/png": "[encoded data removed]",
      "text/plain": [
       "<Figure size 640x480 with 1 Axes>"
      ]
     },
     "metadata": {},
     "output_type": "display_data"
    }
   ],
   "source": [
    "import pandas as pd\n",
    "import seaborn as sns\n",
    "import matplotlib.pyplot as plt\n",
    "\n",
    "# Assuming you have loaded the heart disease dataset into a pandas dataframe named 'df'\n",
    "\n",
    "# Visualize the class distribution using seaborn\n",
    "sns.set(style='darkgrid')\n",
    "sns.countplot(x='num', data=df)\n",
    "\n",
    "# Add labels to the plot\n",
    "plt.title('Class Distribution of Heart Disease Dataset')\n",
    "plt.ylabel('Number of Occurrences', fontsize=12)\n",
    "plt.xlabel('Class', fontsize=12)\n",
    "\n",
    "# Display the plot, which shows the number of samples belonging to each class\n",
    "plt.show()\n"
   ]
  },
  {
   "cell_type": "code",
   "execution_count": 49,
   "id": "bbf7238c",
   "metadata": {},
   "outputs": [],
   "source": [
    "# Convert the target variable 'num' into a binary classification problem\n",
    "df['num'] = df['num'].apply(lambda x: 1 if x > 0 else 0)"
   ]
  },
  {
   "cell_type": "code",
   "execution_count": 50,
   "id": "b96b760b",
   "metadata": {},
   "outputs": [
    {
     "data": {
      "text/plain": [
       "num\n",
       "0    164\n",
       "1    139\n",
       "Name: count, dtype: int64"
      ]
     },
     "execution_count": 50,
     "metadata": {},
     "output_type": "execute_result"
    }
   ],
   "source": [
    "df[\"num\"].value_counts()"
   ]
  },
  {
   "cell_type": "code",
   "execution_count": 51,
   "id": "f56ef4d3",
   "metadata": {},
   "outputs": [
    {
     "data": {
      "text/plain": [
       "(303, 14)"
      ]
     },
     "execution_count": 51,
     "metadata": {},
     "output_type": "execute_result"
    }
   ],
   "source": [
    "df.shape"
   ]
  },
  {
   "cell_type": "code",
   "execution_count": 52,
   "id": "d1110dd0",
   "metadata": {},
   "outputs": [
    {
     "name": "stderr",
     "output_type": "stream",
     "text": [
      "C:\\Users\\hotpr\\anaconda3\\lib\\site-packages\\xgboost\\sklearn.py:1395: UserWarning: `use_label_encoder` is deprecated in 1.7.0.\n",
      "  warnings.warn(\"`use_label_encoder` is deprecated in 1.7.0.\")\n"
     ]
    },
    {
     "name": "stdout",
     "output_type": "stream",
     "text": [
      "                          Classifier  Accuracy  Precision   Recall  F1 Score   \n",
      "0                Logistic Regression  0.885246   0.878788  0.90625  0.892308  \\\n",
      "1                k-Nearest Neighbors  0.918033   0.935484  0.90625  0.920635   \n",
      "2                        Naive Bayes  0.836066   0.892857  0.78125  0.833333   \n",
      "3                      Decision Tree  0.754098   0.774194  0.75000  0.761905   \n",
      "4   Support Vector Machines - Linear  0.885246   0.878788  0.90625  0.892308   \n",
      "5                      Random Forest  0.868852   0.900000  0.84375  0.870968   \n",
      "6             Extra Trees Classifier  0.868852   0.928571  0.81250  0.866667   \n",
      "7    Light Gradient Boosting Machine  0.901639   0.933333  0.87500  0.903226   \n",
      "8       Gradient Boosting Classifier  0.852459   0.870968  0.84375  0.857143   \n",
      "9                AdaBoost Classifier  0.836066   0.892857  0.78125  0.833333   \n",
      "10                XGBoost Classifier  0.836066   0.866667  0.81250  0.838710   \n",
      "11                  Ridge Classifier  0.885246   0.878788  0.90625  0.892308   \n",
      "12   Quadratic Discriminant Analysis  0.868852   0.900000  0.84375  0.870968   \n",
      "13      Linear Discriminant Analysis  0.885246   0.878788  0.90625  0.892308   \n",
      "14                 Voting Classifier  0.852459   0.870968  0.84375  0.857143   \n",
      "\n",
      "    Cohen Kappa   ROC AUC  \n",
      "0      0.769563  0.920259  \n",
      "1      0.835933  0.955280  \n",
      "2      0.673448  0.917026  \n",
      "3      0.507800  0.754310  \n",
      "4      0.769563       NaN  \n",
      "5      0.737916  0.930496  \n",
      "6      0.738758  0.943966  \n",
      "7      0.803437  0.936422  \n",
      "8      0.704680  0.933190  \n",
      "9      0.673448  0.919181  \n",
      "10     0.672395  0.918103  \n",
      "11     0.769563       NaN  \n",
      "12     0.737916  0.906250  \n",
      "13     0.769563  0.943966  \n",
      "14     0.704680       NaN  \n"
     ]
    },
    {
     "name": "stderr",
     "output_type": "stream",
     "text": [
      "C:\\Users\\hotpr\\anaconda3\\lib\\site-packages\\xgboost\\sklearn.py:1395: UserWarning: `use_label_encoder` is deprecated in 1.7.0.\n",
      "  warnings.warn(\"`use_label_encoder` is deprecated in 1.7.0.\")\n"
     ]
    }
   ],
   "source": [
    "import pandas as pd\n",
    "import numpy as np\n",
    "from sklearn.model_selection import train_test_split\n",
    "from sklearn.metrics import (accuracy_score, precision_score, recall_score, f1_score, roc_auc_score,\n",
    "                             confusion_matrix, balanced_accuracy_score, cohen_kappa_score)\n",
    "from sklearn.linear_model import LogisticRegression, RidgeClassifier\n",
    "from sklearn.neighbors import KNeighborsClassifier\n",
    "from sklearn.naive_bayes import GaussianNB\n",
    "from sklearn.tree import DecisionTreeClassifier\n",
    "from sklearn.ensemble import RandomForestClassifier, ExtraTreesClassifier, GradientBoostingClassifier, AdaBoostClassifier\n",
    "from sklearn.svm import SVC, LinearSVC\n",
    "from sklearn.discriminant_analysis import QuadraticDiscriminantAnalysis, LinearDiscriminantAnalysis\n",
    "from lightgbm import LGBMClassifier\n",
    "from xgboost import XGBClassifier\n",
    "from sklearn.ensemble import VotingClassifier\n",
    "from sklearn.neural_network import MLPClassifier\n",
    "\n",
    "\n",
    "# Prepare your dataset for classification\n",
    "X = df.drop('num', axis=1)  # Replace 'target' with the name of your target column\n",
    "y = df['num']  # Replace 'target' with the name of your target column\n",
    "\n",
    "# Feature scaling using Min-Max scaling\n",
    "from sklearn.preprocessing import StandardScaler, MinMaxScaler\n",
    "scaler = StandardScaler()\n",
    "X= scaler.fit_transform(X)\n",
    "\n",
    "# Split the dataset into training and testing sets\n",
    "X_train, X_test, y_train, y_test = train_test_split(X, y, test_size=0.2, random_state=42)\n",
    "\n",
    "# Define the classifiers\n",
    "classifiers = {\n",
    "    'Logistic Regression': LogisticRegression(random_state=42),\n",
    "    'k-Nearest Neighbors': KNeighborsClassifier(),\n",
    "    'Naive Bayes': GaussianNB(),\n",
    "    'Decision Tree': DecisionTreeClassifier(random_state=42),\n",
    "    'Support Vector Machines - Linear': LinearSVC(dual=False),\n",
    "    'Random Forest': RandomForestClassifier(random_state=42),\n",
    "    'Extra Trees Classifier': ExtraTreesClassifier(random_state=42),\n",
    "    'Light Gradient Boosting Machine': LGBMClassifier(random_state=42),\n",
    "    'Gradient Boosting Classifier': GradientBoostingClassifier(random_state=42),\n",
    "    'AdaBoost Classifier': AdaBoostClassifier(random_state=42),\n",
    "    'XGBoost Classifier': XGBClassifier(use_label_encoder=False, eval_metric='logloss', random_state=42),\n",
    "    'Ridge Classifier': RidgeClassifier(random_state=42),\n",
    "    'Quadratic Discriminant Analysis': QuadraticDiscriminantAnalysis(),\n",
    "    'Linear Discriminant Analysis': LinearDiscriminantAnalysis()\n",
    "}\n",
    "\n",
    "voting_classifier = VotingClassifier(estimators=list(classifiers.items()), voting='hard')\n",
    "classifiers['Voting Classifier'] = voting_classifier\n",
    "\n",
    "\n",
    "# Calculate metrics for each classifier\n",
    "metrics = []\n",
    "\n",
    "for name, classifier in classifiers.items():\n",
    "    classifier.fit(X_train, y_train)\n",
    "    y_pred = classifier.predict(X_test)\n",
    "\n",
    "    accuracy = accuracy_score(y_test, y_pred)\n",
    "    #balanced_accuracy = balanced_accuracy_score(y_test, y_pred)\n",
    "    precision = precision_score(y_test, y_pred)\n",
    "    recall = recall_score(y_test, y_pred)\n",
    "    f1 = f1_score(y_test, y_pred)\n",
    "    cohen_kappa = cohen_kappa_score(y_test, y_pred)\n",
    "\n",
    "    if hasattr(classifier, \"predict_proba\"):\n",
    "        y_proba = classifier.predict_proba(X_test)[:, 1]\n",
    "        roc_auc = roc_auc_score(y_test, y_proba)\n",
    "    else:\n",
    "        roc_auc = np.nan\n",
    "    \n",
    "    metrics.append([name, accuracy, precision, recall, f1, cohen_kappa, roc_auc])\n",
    "\n",
    "# Print metrics in a table\n",
    "metrics_df = pd.DataFrame(metrics, columns=['Classifier', 'Accuracy', 'Precision', 'Recall', 'F1 Score', 'Cohen Kappa', 'ROC AUC'])\n",
    "print(metrics_df)"
   ]
  },
  {
   "cell_type": "code",
   "execution_count": null,
   "id": "3a90d7e0",
   "metadata": {},
   "outputs": [],
   "source": [
    "metrics_df.to_excel('Eval1.xlsx')"
   ]
  },
  {
   "cell_type": "code",
   "execution_count": 53,
   "id": "caf28131",
   "metadata": {},
   "outputs": [
    {
     "name": "stdout",
     "output_type": "stream",
     "text": [
      "Top 6 Classifiers:\n",
      "                         Classifier  Accuracy  Precision   Recall  F1 Score   \n",
      "0               k-Nearest Neighbors  0.918033   0.935484  0.90625  0.920635  \\\n",
      "1   Light Gradient Boosting Machine  0.901639   0.933333  0.87500  0.903226   \n",
      "2               Logistic Regression  0.885246   0.878788  0.90625  0.892308   \n",
      "3  Support Vector Machines - Linear  0.885246   0.878788  0.90625  0.892308   \n",
      "4                  Ridge Classifier  0.885246   0.878788  0.90625  0.892308   \n",
      "5      Linear Discriminant Analysis  0.885246   0.878788  0.90625  0.892308   \n",
      "\n",
      "   Cohen Kappa   ROC AUC  \n",
      "0     0.835933  0.955280  \n",
      "1     0.803437  0.936422  \n",
      "2     0.769563  0.920259  \n",
      "3     0.769563       NaN  \n",
      "4     0.769563       NaN  \n",
      "5     0.769563  0.943966  \n"
     ]
    }
   ],
   "source": [
    "import pandas as pd\n",
    "\n",
    "# Assuming you have the metrics list as mentioned in the code\n",
    "\n",
    "# Sort the metrics list based on accuracy in descending order\n",
    "metrics.sort(key=lambda x: x[1], reverse=True)\n",
    "\n",
    "# Select the top 6 classifiers based on accuracy\n",
    "top_classifiers = metrics[:6]\n",
    "\n",
    "# Create a dataframe to display the top classifiers\n",
    "top_classifiers_df = pd.DataFrame(top_classifiers, columns=['Classifier', 'Accuracy', 'Precision', 'Recall', 'F1 Score', 'Cohen Kappa', 'ROC AUC'])\n",
    "\n",
    "# Print the top classifiers dataframe\n",
    "print(\"Top 6 Classifiers:\")\n",
    "print(top_classifiers_df)"
   ]
  },
  {
   "cell_type": "code",
   "execution_count": 54,
   "id": "4d2e5e94",
   "metadata": {},
   "outputs": [
    {
     "data": {
      "image/png": "[encoded data removed]",
      "text/plain": [
       "<Figure size 1000x600 with 1 Axes>"
      ]
     },
     "metadata": {},
     "output_type": "display_data"
    },
    {
     "data": {
      "text/plain": [
       "<Figure size 640x480 with 0 Axes>"
      ]
     },
     "metadata": {},
     "output_type": "display_data"
    }
   ],
   "source": [
    "# Sort the metrics list based on accuracy in descending order\n",
    "metrics.sort(key=lambda x: x[4], reverse=True)\n",
    "\n",
    "# Select the top 5 classifiers based on accuracy\n",
    "top_classifiers = metrics[:5]\n",
    "classs=[classifier[0] for classifier in top_classifiers]\n",
    "\n",
    "top_5_scores = [classifier[4]*100 for classifier in top_classifiers]\n",
    " \n",
    "# Plot the graph\n",
    "plt.figure(figsize=(10, 6))\n",
    "plt.bar(classs, top_5_scores, color='red')\n",
    "plt.xlabel(\"Classifiers\")\n",
    "plt.ylabel(\"F1 Score\")\n",
    "plt.title(\"Top 5 Classifiers by F1 Score\")\n",
    "plt.ylim(0, 110)\n",
    "plt.xticks(rotation=90)\n",
    "plt.show()\n",
    "plt.savefig(\"output1\", facecolor='y', bbox_inches=\"tight\",\n",
    "            pad_inches=0.3, transparent=True)\n",
    "#plt.savefig('kidney', transparent = False)"
   ]
  },
  {
   "cell_type": "markdown",
   "id": "37a90e6d",
   "metadata": {},
   "source": [
    "To display all columns or rows without truncation in pandas, you can adjust the pandas display options using pd.set_option(). Here's how to do it:"
   ]
  },
  {
   "cell_type": "code",
   "execution_count": null,
   "id": "3bb3e547",
   "metadata": {},
   "outputs": [],
   "source": [
    "import pandas as pd\n",
    "\n",
    "# Set the display options for columns\n",
    "pd.set_option('display.max_columns', None)  # To show all columns on the same line\n",
    "pd.set_option('display.width', None)  # To adjust the display width to show columns without wrapping\n",
    "\n",
    "# Set the display options for rows\n",
    "pd.set_option('display.max_rows', None)  # To show all rows\n"
   ]
  },
  {
   "cell_type": "markdown",
   "id": "48f71424",
   "metadata": {},
   "source": [
    "# Breast Cancer"
   ]
  },
  {
   "cell_type": "markdown",
   "id": "7ea01fe9",
   "metadata": {},
   "source": []
  },
  {
   "cell_type": "code",
   "execution_count": 36,
   "id": "e5fa962f",
   "metadata": {},
   "outputs": [],
   "source": [
    "from sklearn.datasets import load_breast_cancer\n",
    "import pandas as pd\n",
    "\n",
    "# Load the breast cancer dataset\n",
    "breast_cancer_data = load_breast_cancer()\n",
    "\n",
    "# Convert to a pandas DataFrame\n",
    "breast_cancer_df = pd.DataFrame(breast_cancer_data.data, columns=breast_cancer_data.feature_names)\n",
    "breast_cancer_df['target'] = breast_cancer_data.target\n"
   ]
  },
  {
   "cell_type": "code",
   "execution_count": 37,
   "id": "f2ea49a5",
   "metadata": {},
   "outputs": [
    {
     "data": {
      "text/plain": [
       "(569, 31)"
      ]
     },
     "execution_count": 37,
     "metadata": {},
     "output_type": "execute_result"
    }
   ],
   "source": [
    "breast_cancer_df.shape"
   ]
  },
  {
   "cell_type": "code",
   "execution_count": 38,
   "id": "03c73c12",
   "metadata": {},
   "outputs": [
    {
     "name": "stdout",
     "output_type": "stream",
     "text": [
      "mean radius                0\n",
      "mean texture               0\n",
      "mean perimeter             0\n",
      "mean area                  0\n",
      "mean smoothness            0\n",
      "mean compactness           0\n",
      "mean concavity             0\n",
      "mean concave points        0\n",
      "mean symmetry              0\n",
      "mean fractal dimension     0\n",
      "radius error               0\n",
      "texture error              0\n",
      "perimeter error            0\n",
      "area error                 0\n",
      "smoothness error           0\n",
      "compactness error          0\n",
      "concavity error            0\n",
      "concave points error       0\n",
      "symmetry error             0\n",
      "fractal dimension error    0\n",
      "worst radius               0\n",
      "worst texture              0\n",
      "worst perimeter            0\n",
      "worst area                 0\n",
      "worst smoothness           0\n",
      "worst compactness          0\n",
      "worst concavity            0\n",
      "worst concave points       0\n",
      "worst symmetry             0\n",
      "worst fractal dimension    0\n",
      "target                     0\n",
      "dtype: int64\n"
     ]
    }
   ],
   "source": [
    "# Check for null values in columns\n",
    "null_values = breast_cancer_df.isnull().sum()\n",
    "print(null_values)"
   ]
  },
  {
   "cell_type": "code",
   "execution_count": 39,
   "id": "96764551",
   "metadata": {
    "scrolled": true
   },
   "outputs": [
    {
     "data": {
      "text/plain": [
       "target\n",
       "1    357\n",
       "0    212\n",
       "Name: count, dtype: int64"
      ]
     },
     "execution_count": 39,
     "metadata": {},
     "output_type": "execute_result"
    }
   ],
   "source": [
    "breast_cancer_df['target'].value_counts()"
   ]
  },
  {
   "cell_type": "code",
   "execution_count": 40,
   "id": "d242bdbb",
   "metadata": {},
   "outputs": [
    {
     "name": "stderr",
     "output_type": "stream",
     "text": [
      "C:\\Users\\hotpr\\anaconda3\\lib\\site-packages\\xgboost\\sklearn.py:1395: UserWarning: `use_label_encoder` is deprecated in 1.7.0.\n",
      "  warnings.warn(\"`use_label_encoder` is deprecated in 1.7.0.\")\n"
     ]
    },
    {
     "name": "stdout",
     "output_type": "stream",
     "text": [
      "                          Classifier  Accuracy  Precision    Recall  F1 Score   \n",
      "0                Logistic Regression  0.982456   0.972603  1.000000  0.986111  \\\n",
      "1                k-Nearest Neighbors  0.964912   0.971831  0.971831  0.971831   \n",
      "2                        Naive Bayes  0.964912   0.958904  0.985915  0.972222   \n",
      "3                      Decision Tree  0.947368   0.957746  0.957746  0.957746   \n",
      "4   Support Vector Machines - Linear  0.973684   0.972222  0.985915  0.979021   \n",
      "5                      Random Forest  0.964912   0.958904  0.985915  0.972222   \n",
      "6             Extra Trees Classifier  0.964912   0.958904  0.985915  0.972222   \n",
      "7    Light Gradient Boosting Machine  0.964912   0.958904  0.985915  0.972222   \n",
      "8       Gradient Boosting Classifier  0.956140   0.958333  0.971831  0.965035   \n",
      "9                AdaBoost Classifier  0.973684   0.972222  0.985915  0.979021   \n",
      "10                XGBoost Classifier  0.956140   0.958333  0.971831  0.965035   \n",
      "11                  Ridge Classifier  0.956140   0.945946  0.985915  0.965517   \n",
      "12   Quadratic Discriminant Analysis  0.956140   0.971429  0.957746  0.964539   \n",
      "13      Linear Discriminant Analysis  0.956140   0.945946  0.985915  0.965517   \n",
      "\n",
      "    Cohen Kappa   ROC AUC  \n",
      "0      0.962314  0.998035  \n",
      "1      0.925319  0.983459  \n",
      "2      0.924628  0.997380  \n",
      "3      0.887979  0.943990  \n",
      "4      0.943731       NaN  \n",
      "5      0.924628  0.995251  \n",
      "6      0.924628  0.998690  \n",
      "7      0.924628  0.991811  \n",
      "8      0.906219  0.995087  \n",
      "9      0.943731  0.997052  \n",
      "10     0.906219  0.991156  \n",
      "11     0.905347       NaN  \n",
      "12     0.907075  0.987881  \n",
      "13     0.905347  0.992466  \n"
     ]
    }
   ],
   "source": [
    "import pandas as pd\n",
    "import numpy as np\n",
    "from sklearn.model_selection import train_test_split\n",
    "from sklearn.metrics import (accuracy_score, precision_score, recall_score, f1_score, roc_auc_score,\n",
    "                             confusion_matrix, balanced_accuracy_score, cohen_kappa_score)\n",
    "from sklearn.linear_model import LogisticRegression, RidgeClassifier\n",
    "from sklearn.neighbors import KNeighborsClassifier\n",
    "from sklearn.naive_bayes import GaussianNB\n",
    "from sklearn.tree import DecisionTreeClassifier\n",
    "from sklearn.ensemble import RandomForestClassifier, ExtraTreesClassifier, GradientBoostingClassifier, AdaBoostClassifier\n",
    "from sklearn.svm import SVC, LinearSVC\n",
    "from sklearn.discriminant_analysis import QuadraticDiscriminantAnalysis, LinearDiscriminantAnalysis\n",
    "from lightgbm import LGBMClassifier\n",
    "from xgboost import XGBClassifier\n",
    "\n",
    "\n",
    "# Prepare your dataset for classification\n",
    "X = breast_cancer_df.drop('target', axis=1)  # Replace 'target' with the name of your target column\n",
    "y = breast_cancer_df['target']  # Replace 'target' with the name of your target column\n",
    "\n",
    "# Feature scaling using Min-Max scaling\n",
    "from sklearn.preprocessing import MinMaxScaler\n",
    "scaler = MinMaxScaler()\n",
    "X= scaler.fit_transform(X)\n",
    "\n",
    "# Split the dataset into training and testing sets\n",
    "X_train, X_test, y_train, y_test = train_test_split(X, y, test_size=0.2, random_state=42)\n",
    "\n",
    "# Define the classifiers\n",
    "classifiers = {\n",
    "    'Logistic Regression': LogisticRegression(random_state=42),\n",
    "    'k-Nearest Neighbors': KNeighborsClassifier(),\n",
    "    'Naive Bayes': GaussianNB(),\n",
    "    'Decision Tree': DecisionTreeClassifier(random_state=42),\n",
    "    'Support Vector Machines - Linear': LinearSVC(dual=False),\n",
    "    'Random Forest': RandomForestClassifier(random_state=42),\n",
    "    'Extra Trees Classifier': ExtraTreesClassifier(random_state=42),\n",
    "    'Light Gradient Boosting Machine': LGBMClassifier(random_state=42),\n",
    "    'Gradient Boosting Classifier': GradientBoostingClassifier(random_state=42),\n",
    "    'AdaBoost Classifier': AdaBoostClassifier(random_state=42),\n",
    "    'XGBoost Classifier': XGBClassifier(use_label_encoder=False, eval_metric='logloss', random_state=42),\n",
    "    'Ridge Classifier': RidgeClassifier(random_state=42),\n",
    "    'Quadratic Discriminant Analysis': QuadraticDiscriminantAnalysis(),\n",
    "    'Linear Discriminant Analysis': LinearDiscriminantAnalysis()\n",
    "}\n",
    "\n",
    "# Calculate metrics for each classifier\n",
    "metrics = []\n",
    "\n",
    "for name, classifier in classifiers.items():\n",
    "    classifier.fit(X_train, y_train)\n",
    "    y_pred = classifier.predict(X_test)\n",
    "\n",
    "    accuracy = accuracy_score(y_test, y_pred)\n",
    "    #balanced_accuracy = balanced_accuracy_score(y_test, y_pred)\n",
    "    precision = precision_score(y_test, y_pred)\n",
    "    recall = recall_score(y_test, y_pred)\n",
    "    f1 = f1_score(y_test, y_pred)\n",
    "    cohen_kappa = cohen_kappa_score(y_test, y_pred)\n",
    "\n",
    "    if hasattr(classifier, \"predict_proba\"):\n",
    "        y_proba = classifier.predict_proba(X_test)[:, 1]\n",
    "        roc_auc = roc_auc_score(y_test, y_proba)\n",
    "    else:\n",
    "        roc_auc = np.nan\n",
    "    \n",
    "    metrics.append([name, accuracy, precision, recall, f1, cohen_kappa, roc_auc])\n",
    "\n",
    "# Print metrics in a table\n",
    "metrics_df = pd.DataFrame(metrics, columns=['Classifier', 'Accuracy', 'Precision', 'Recall', 'F1 Score', 'Cohen Kappa', 'ROC AUC'])\n",
    "print(metrics_df)\n"
   ]
  },
  {
   "cell_type": "code",
   "execution_count": 41,
   "id": "af51e341",
   "metadata": {},
   "outputs": [
    {
     "name": "stdout",
     "output_type": "stream",
     "text": [
      "Top 6 Classifiers:\n",
      "                         Classifier  Accuracy  Precision    Recall  F1 Score   \n",
      "0               Logistic Regression  0.982456   0.972603  1.000000  0.986111  \\\n",
      "1  Support Vector Machines - Linear  0.973684   0.972222  0.985915  0.979021   \n",
      "2               AdaBoost Classifier  0.973684   0.972222  0.985915  0.979021   \n",
      "3               k-Nearest Neighbors  0.964912   0.971831  0.971831  0.971831   \n",
      "4                       Naive Bayes  0.964912   0.958904  0.985915  0.972222   \n",
      "5                     Random Forest  0.964912   0.958904  0.985915  0.972222   \n",
      "\n",
      "   Cohen Kappa   ROC AUC  \n",
      "0     0.962314  0.998035  \n",
      "1     0.943731       NaN  \n",
      "2     0.943731  0.997052  \n",
      "3     0.925319  0.983459  \n",
      "4     0.924628  0.997380  \n",
      "5     0.924628  0.995251  \n"
     ]
    }
   ],
   "source": [
    "import pandas as pd\n",
    "\n",
    "# Assuming you have the metrics list as mentioned in the code\n",
    "\n",
    "# Sort the metrics list based on accuracy in descending order\n",
    "metrics.sort(key=lambda x: x[1], reverse=True)\n",
    "\n",
    "# Select the top 6 classifiers based on accuracy\n",
    "top_classifiers = metrics[:6]\n",
    "\n",
    "# Create a dataframe to display the top classifiers\n",
    "top_classifiers_df = pd.DataFrame(top_classifiers, columns=['Classifier', 'Accuracy', 'Precision', 'Recall', 'F1 Score', 'Cohen Kappa', 'ROC AUC'])\n",
    "\n",
    "# Print the top classifiers dataframe\n",
    "print(\"Top 6 Classifiers:\")\n",
    "print(top_classifiers_df)"
   ]
  },
  {
   "cell_type": "code",
   "execution_count": 42,
   "id": "e785d6f6",
   "metadata": {},
   "outputs": [
    {
     "data": {
      "image/png": "[encoded data removed]",
      "text/plain": [
       "<Figure size 1000x600 with 1 Axes>"
      ]
     },
     "metadata": {},
     "output_type": "display_data"
    },
    {
     "data": {
      "text/plain": [
       "<Figure size 640x480 with 0 Axes>"
      ]
     },
     "metadata": {},
     "output_type": "display_data"
    }
   ],
   "source": [
    "# Sort the metrics list based on accuracy in descending order\n",
    "metrics.sort(key=lambda x: x[4], reverse=True)\n",
    "\n",
    "# Select the top 5 classifiers based on accuracy\n",
    "top_classifiers = metrics[:5]\n",
    "classs=[classifier[0] for classifier in top_classifiers]\n",
    "\n",
    "top_5_scores = [classifier[4]*100 for classifier in top_classifiers]\n",
    " \n",
    "# Plot the graph\n",
    "plt.figure(figsize=(10, 6))\n",
    "plt.bar(classs, top_5_scores, color='yellow')\n",
    "plt.xlabel(\"Classifiers\")\n",
    "plt.ylabel(\"F1 Score\")\n",
    "plt.title(\"Top 5 Classifiers by F1 Score\")\n",
    "plt.ylim(0, 110)\n",
    "plt.xticks(rotation=90)\n",
    "plt.show()\n",
    "plt.savefig(\"output1\", facecolor='y', bbox_inches=\"tight\",\n",
    "            pad_inches=0.3, transparent=True)\n",
    "#plt.savefig('kidney', transparent = False)"
   ]
  },
  {
   "cell_type": "markdown",
   "id": "6dd260ec",
   "metadata": {},
   "source": [
    "# Kidney Stone"
   ]
  },
  {
   "cell_type": "code",
   "execution_count": 22,
   "id": "5b82af0c",
   "metadata": {},
   "outputs": [
    {
     "data": {
      "text/html": [
       "<div>\n",
       "<style scoped>\n",
       "    .dataframe tbody tr th:only-of-type {\n",
       "        vertical-align: middle;\n",
       "    }\n",
       "\n",
       "    .dataframe tbody tr th {\n",
       "        vertical-align: top;\n",
       "    }\n",
       "\n",
       "    .dataframe thead th {\n",
       "        text-align: right;\n",
       "    }\n",
       "</style>\n",
       "<table border=\"1\" class=\"dataframe\">\n",
       "  <thead>\n",
       "    <tr style=\"text-align: right;\">\n",
       "      <th></th>\n",
       "      <th>Unnamed: 0</th>\n",
       "      <th>gravity</th>\n",
       "      <th>ph</th>\n",
       "      <th>osmo</th>\n",
       "      <th>cond</th>\n",
       "      <th>urea</th>\n",
       "      <th>calc</th>\n",
       "      <th>target</th>\n",
       "    </tr>\n",
       "  </thead>\n",
       "  <tbody>\n",
       "    <tr>\n",
       "      <th>0</th>\n",
       "      <td>0</td>\n",
       "      <td>1.021</td>\n",
       "      <td>4.91</td>\n",
       "      <td>725</td>\n",
       "      <td>14.0</td>\n",
       "      <td>443</td>\n",
       "      <td>2.45</td>\n",
       "      <td>0</td>\n",
       "    </tr>\n",
       "    <tr>\n",
       "      <th>1</th>\n",
       "      <td>1</td>\n",
       "      <td>1.017</td>\n",
       "      <td>5.74</td>\n",
       "      <td>577</td>\n",
       "      <td>20.0</td>\n",
       "      <td>296</td>\n",
       "      <td>4.49</td>\n",
       "      <td>0</td>\n",
       "    </tr>\n",
       "    <tr>\n",
       "      <th>2</th>\n",
       "      <td>2</td>\n",
       "      <td>1.008</td>\n",
       "      <td>7.20</td>\n",
       "      <td>321</td>\n",
       "      <td>14.9</td>\n",
       "      <td>101</td>\n",
       "      <td>2.36</td>\n",
       "      <td>0</td>\n",
       "    </tr>\n",
       "    <tr>\n",
       "      <th>3</th>\n",
       "      <td>3</td>\n",
       "      <td>1.011</td>\n",
       "      <td>5.51</td>\n",
       "      <td>408</td>\n",
       "      <td>12.6</td>\n",
       "      <td>224</td>\n",
       "      <td>2.15</td>\n",
       "      <td>0</td>\n",
       "    </tr>\n",
       "    <tr>\n",
       "      <th>4</th>\n",
       "      <td>4</td>\n",
       "      <td>1.005</td>\n",
       "      <td>6.52</td>\n",
       "      <td>187</td>\n",
       "      <td>7.5</td>\n",
       "      <td>91</td>\n",
       "      <td>1.16</td>\n",
       "      <td>0</td>\n",
       "    </tr>\n",
       "  </tbody>\n",
       "</table>\n",
       "</div>"
      ],
      "text/plain": [
       "   Unnamed: 0  gravity    ph  osmo  cond  urea  calc  target\n",
       "0           0    1.021  4.91   725  14.0   443  2.45       0\n",
       "1           1    1.017  5.74   577  20.0   296  4.49       0\n",
       "2           2    1.008  7.20   321  14.9   101  2.36       0\n",
       "3           3    1.011  5.51   408  12.6   224  2.15       0\n",
       "4           4    1.005  6.52   187   7.5    91  1.16       0"
      ]
     },
     "execution_count": 22,
     "metadata": {},
     "output_type": "execute_result"
    }
   ],
   "source": [
    "import pandas as pd\n",
    "\n",
    "# Load the diabetes dataset\n",
    "kidney_df = pd.read_csv('kidney-stone-dataset.csv')\n",
    "kidney_df.head()"
   ]
  },
  {
   "cell_type": "code",
   "execution_count": 23,
   "id": "f8c456d0",
   "metadata": {},
   "outputs": [
    {
     "name": "stdout",
     "output_type": "stream",
     "text": [
      "Unnamed: 0    0\n",
      "gravity       0\n",
      "ph            0\n",
      "osmo          0\n",
      "cond          0\n",
      "urea          0\n",
      "calc          0\n",
      "target        0\n",
      "dtype: int64\n"
     ]
    }
   ],
   "source": [
    " # Check for null values in columns\n",
    "null_values = kidney_df.isnull().sum()\n",
    "print(null_values)"
   ]
  },
  {
   "cell_type": "code",
   "execution_count": 24,
   "id": "165c0e89",
   "metadata": {},
   "outputs": [
    {
     "data": {
      "text/plain": [
       "(90, 8)"
      ]
     },
     "execution_count": 24,
     "metadata": {},
     "output_type": "execute_result"
    }
   ],
   "source": [
    "kidney_df.shape"
   ]
  },
  {
   "cell_type": "code",
   "execution_count": 25,
   "id": "5b01773f",
   "metadata": {
    "scrolled": true
   },
   "outputs": [
    {
     "data": {
      "text/plain": [
       "<bound method IndexOpsMixin.value_counts of 0     0\n",
       "1     0\n",
       "2     0\n",
       "3     0\n",
       "4     0\n",
       "     ..\n",
       "85    1\n",
       "86    1\n",
       "87    1\n",
       "88    1\n",
       "89    1\n",
       "Name: target, Length: 90, dtype: int64>"
      ]
     },
     "execution_count": 25,
     "metadata": {},
     "output_type": "execute_result"
    }
   ],
   "source": [
    "kidney_df['target'].value_counts"
   ]
  },
  {
   "cell_type": "code",
   "execution_count": 26,
   "id": "2bec69ed",
   "metadata": {},
   "outputs": [
    {
     "data": {
      "text/html": [
       "<div>\n",
       "<style scoped>\n",
       "    .dataframe tbody tr th:only-of-type {\n",
       "        vertical-align: middle;\n",
       "    }\n",
       "\n",
       "    .dataframe tbody tr th {\n",
       "        vertical-align: top;\n",
       "    }\n",
       "\n",
       "    .dataframe thead th {\n",
       "        text-align: right;\n",
       "    }\n",
       "</style>\n",
       "<table border=\"1\" class=\"dataframe\">\n",
       "  <thead>\n",
       "    <tr style=\"text-align: right;\">\n",
       "      <th></th>\n",
       "      <th>gravity</th>\n",
       "      <th>ph</th>\n",
       "      <th>osmo</th>\n",
       "      <th>cond</th>\n",
       "      <th>urea</th>\n",
       "      <th>calc</th>\n",
       "      <th>target</th>\n",
       "    </tr>\n",
       "  </thead>\n",
       "  <tbody>\n",
       "    <tr>\n",
       "      <th>0</th>\n",
       "      <td>1.021000</td>\n",
       "      <td>4.910000</td>\n",
       "      <td>725</td>\n",
       "      <td>14.000000</td>\n",
       "      <td>443</td>\n",
       "      <td>2.450000</td>\n",
       "      <td>0</td>\n",
       "    </tr>\n",
       "    <tr>\n",
       "      <th>1</th>\n",
       "      <td>1.017000</td>\n",
       "      <td>5.740000</td>\n",
       "      <td>577</td>\n",
       "      <td>20.000000</td>\n",
       "      <td>296</td>\n",
       "      <td>4.490000</td>\n",
       "      <td>0</td>\n",
       "    </tr>\n",
       "    <tr>\n",
       "      <th>2</th>\n",
       "      <td>1.008000</td>\n",
       "      <td>7.200000</td>\n",
       "      <td>321</td>\n",
       "      <td>14.900000</td>\n",
       "      <td>101</td>\n",
       "      <td>2.360000</td>\n",
       "      <td>0</td>\n",
       "    </tr>\n",
       "    <tr>\n",
       "      <th>3</th>\n",
       "      <td>1.011000</td>\n",
       "      <td>5.510000</td>\n",
       "      <td>408</td>\n",
       "      <td>12.600000</td>\n",
       "      <td>224</td>\n",
       "      <td>2.150000</td>\n",
       "      <td>0</td>\n",
       "    </tr>\n",
       "    <tr>\n",
       "      <th>4</th>\n",
       "      <td>1.005000</td>\n",
       "      <td>6.520000</td>\n",
       "      <td>187</td>\n",
       "      <td>7.500000</td>\n",
       "      <td>91</td>\n",
       "      <td>1.160000</td>\n",
       "      <td>0</td>\n",
       "    </tr>\n",
       "    <tr>\n",
       "      <th>...</th>\n",
       "      <td>...</td>\n",
       "      <td>...</td>\n",
       "      <td>...</td>\n",
       "      <td>...</td>\n",
       "      <td>...</td>\n",
       "      <td>...</td>\n",
       "      <td>...</td>\n",
       "    </tr>\n",
       "    <tr>\n",
       "      <th>85</th>\n",
       "      <td>1.021452</td>\n",
       "      <td>5.556081</td>\n",
       "      <td>756</td>\n",
       "      <td>24.241481</td>\n",
       "      <td>367</td>\n",
       "      <td>7.669120</td>\n",
       "      <td>1</td>\n",
       "    </tr>\n",
       "    <tr>\n",
       "      <th>86</th>\n",
       "      <td>1.016501</td>\n",
       "      <td>6.900257</td>\n",
       "      <td>549</td>\n",
       "      <td>20.549790</td>\n",
       "      <td>204</td>\n",
       "      <td>5.775256</td>\n",
       "      <td>1</td>\n",
       "    </tr>\n",
       "    <tr>\n",
       "      <th>87</th>\n",
       "      <td>1.032754</td>\n",
       "      <td>5.443491</td>\n",
       "      <td>1085</td>\n",
       "      <td>23.188653</td>\n",
       "      <td>576</td>\n",
       "      <td>8.664169</td>\n",
       "      <td>1</td>\n",
       "    </tr>\n",
       "    <tr>\n",
       "      <th>88</th>\n",
       "      <td>1.023870</td>\n",
       "      <td>5.106433</td>\n",
       "      <td>325</td>\n",
       "      <td>12.124689</td>\n",
       "      <td>50</td>\n",
       "      <td>0.781620</td>\n",
       "      <td>1</td>\n",
       "    </tr>\n",
       "    <tr>\n",
       "      <th>89</th>\n",
       "      <td>1.013723</td>\n",
       "      <td>6.308943</td>\n",
       "      <td>472</td>\n",
       "      <td>16.907792</td>\n",
       "      <td>174</td>\n",
       "      <td>2.556405</td>\n",
       "      <td>1</td>\n",
       "    </tr>\n",
       "  </tbody>\n",
       "</table>\n",
       "<p>90 rows × 7 columns</p>\n",
       "</div>"
      ],
      "text/plain": [
       "     gravity        ph  osmo       cond  urea      calc  target\n",
       "0   1.021000  4.910000   725  14.000000   443  2.450000       0\n",
       "1   1.017000  5.740000   577  20.000000   296  4.490000       0\n",
       "2   1.008000  7.200000   321  14.900000   101  2.360000       0\n",
       "3   1.011000  5.510000   408  12.600000   224  2.150000       0\n",
       "4   1.005000  6.520000   187   7.500000    91  1.160000       0\n",
       "..       ...       ...   ...        ...   ...       ...     ...\n",
       "85  1.021452  5.556081   756  24.241481   367  7.669120       1\n",
       "86  1.016501  6.900257   549  20.549790   204  5.775256       1\n",
       "87  1.032754  5.443491  1085  23.188653   576  8.664169       1\n",
       "88  1.023870  5.106433   325  12.124689    50  0.781620       1\n",
       "89  1.013723  6.308943   472  16.907792   174  2.556405       1\n",
       "\n",
       "[90 rows x 7 columns]"
      ]
     },
     "execution_count": 26,
     "metadata": {},
     "output_type": "execute_result"
    }
   ],
   "source": [
    "kidney_df = kidney_df.drop(kidney_df.columns[0], axis=1)\n",
    "kidney_df"
   ]
  },
  {
   "cell_type": "code",
   "execution_count": 27,
   "id": "484d73e6",
   "metadata": {},
   "outputs": [
    {
     "name": "stderr",
     "output_type": "stream",
     "text": [
      "C:\\Users\\hotpr\\anaconda3\\lib\\site-packages\\xgboost\\sklearn.py:1395: UserWarning: `use_label_encoder` is deprecated in 1.7.0.\n",
      "  warnings.warn(\"`use_label_encoder` is deprecated in 1.7.0.\")\n",
      "C:\\Users\\hotpr\\AppData\\Local\\Temp\\ipykernel_3784\\3467753691.py:120: RuntimeWarning: Mean of empty slice\n",
      "  roc_auc_mean = np.nanmean(roc_auc_scores)\n"
     ]
    },
    {
     "name": "stdout",
     "output_type": "stream",
     "text": [
      "                          Classifier  Accuracy  Precision    Recall  F1 Score   \n",
      "0                Logistic Regression  0.688889   0.719444  0.667692  0.666754  \\\n",
      "1                k-Nearest Neighbors  0.766667   0.730909  0.775897  0.740980   \n",
      "2                        Naive Bayes  0.644444   0.640556  0.663077  0.641286   \n",
      "3                      Decision Tree  0.733333   0.750000  0.765128  0.728716   \n",
      "4   Support Vector Machines - Linear  0.755556   0.787937  0.698462  0.734810   \n",
      "5                      Random Forest  0.811111   0.782778  0.875897  0.807945   \n",
      "6             Extra Trees Classifier  0.811111   0.788333  0.804615  0.785889   \n",
      "7    Light Gradient Boosting Machine  0.766667   0.767980  0.749231  0.738342   \n",
      "8       Gradient Boosting Classifier  0.777778   0.769408  0.815897  0.767441   \n",
      "9                AdaBoost Classifier  0.811111   0.800000  0.840513  0.802326   \n",
      "10                XGBoost Classifier  0.733333   0.700758  0.769231  0.718680   \n",
      "11                  Ridge Classifier  0.777778   0.826429  0.698462  0.753254   \n",
      "12   Quadratic Discriminant Analysis  0.722222   0.785714  0.634359  0.680720   \n",
      "13      Linear Discriminant Analysis  0.744444   0.786429  0.631795  0.698708   \n",
      "\n",
      "    Cohen Kappa   ROC AUC  \n",
      "0      0.389860  0.798355  \n",
      "1      0.520857  0.818643  \n",
      "2      0.277389  0.745556  \n",
      "3      0.479291  0.770064  \n",
      "4      0.493572       NaN  \n",
      "5      0.626711  0.914060  \n",
      "6      0.612537  0.886838  \n",
      "7      0.511685  0.881175  \n",
      "8      0.561025  0.872927  \n",
      "9      0.619043  0.866998  \n",
      "10     0.455898  0.857927  \n",
      "11     0.536878       NaN  \n",
      "12     0.444825  0.807970  \n",
      "13     0.458617  0.830385  \n"
     ]
    },
    {
     "name": "stderr",
     "output_type": "stream",
     "text": [
      "C:\\Users\\hotpr\\AppData\\Local\\Temp\\ipykernel_3784\\3467753691.py:120: RuntimeWarning: Mean of empty slice\n",
      "  roc_auc_mean = np.nanmean(roc_auc_scores)\n"
     ]
    }
   ],
   "source": [
    "import pandas as pd\n",
    "import numpy as np\n",
    "from sklearn.model_selection import train_test_split\n",
    "from sklearn.metrics import (accuracy_score, precision_score, recall_score, f1_score, roc_auc_score,\n",
    "                             confusion_matrix, balanced_accuracy_score, cohen_kappa_score)\n",
    "from sklearn.linear_model import LogisticRegression, RidgeClassifier\n",
    "from sklearn.neighbors import KNeighborsClassifier\n",
    "from sklearn.naive_bayes import GaussianNB\n",
    "from sklearn.tree import DecisionTreeClassifier\n",
    "from sklearn.ensemble import RandomForestClassifier, ExtraTreesClassifier, GradientBoostingClassifier, AdaBoostClassifier\n",
    "from sklearn.svm import SVC, LinearSVC\n",
    "from sklearn.discriminant_analysis import QuadraticDiscriminantAnalysis, LinearDiscriminantAnalysis\n",
    "from lightgbm import LGBMClassifier\n",
    "from xgboost import XGBClassifier\n",
    "from sklearn.model_selection import KFold\n",
    "\n",
    "\n",
    "# Prepare your dataset for classification\n",
    "X = kidney_df.drop('target', axis=1)  # Replace 'target' with the name of your target column\n",
    "y = kidney_df['target']  # Replace 'target' with the name of your target column\n",
    "\n",
    "# Feature scaling using Min-Max scaling\n",
    "from sklearn.preprocessing import StandardScaler, MinMaxScaler\n",
    "scaler = MinMaxScaler()\n",
    "X= scaler.fit_transform(X)\n",
    "\n",
    "# scaler = StandardScaler()\n",
    "# X= scaler.fit_transform(X)\n",
    "\n",
    "# Split the dataset into training and testing sets\n",
    "# X_train, X_test, y_train, y_test = train_test_split(X, y, test_size=0.3, random_state=42)\n",
    "\n",
    "# Define the classifiers\n",
    "classifiers = {\n",
    "    'Logistic Regression': LogisticRegression(random_state=42),\n",
    "    'k-Nearest Neighbors': KNeighborsClassifier(),\n",
    "    'Naive Bayes': GaussianNB(),\n",
    "    'Decision Tree': DecisionTreeClassifier(random_state=42),\n",
    "    'Support Vector Machines - Linear': LinearSVC(dual=False),\n",
    "    'Random Forest': RandomForestClassifier(random_state=42),\n",
    "    'Extra Trees Classifier': ExtraTreesClassifier(random_state=42),\n",
    "    'Light Gradient Boosting Machine': LGBMClassifier(random_state=42),\n",
    "    'Gradient Boosting Classifier': GradientBoostingClassifier(random_state=42),\n",
    "    'AdaBoost Classifier': AdaBoostClassifier(random_state=42),\n",
    "    'XGBoost Classifier': XGBClassifier(use_label_encoder=False, eval_metric='logloss', random_state=42),\n",
    "    'Ridge Classifier': RidgeClassifier(random_state=42),\n",
    "    'Quadratic Discriminant Analysis': QuadraticDiscriminantAnalysis(),\n",
    "    'Linear Discriminant Analysis': LinearDiscriminantAnalysis()\n",
    "}\n",
    "\n",
    "# metrics = []\n",
    "\n",
    "# for name, classifier in classifiers.items():\n",
    "#     classifier.fit(X_train, y_train)\n",
    "#     y_pred = classifier.predict(X_test)\n",
    "\n",
    "#     accuracy = accuracy_score(y_test, y_pred)\n",
    "#     #balanced_accuracy = balanced_accuracy_score(y_test, y_pred)\n",
    "#     precision = precision_score(y_test, y_pred)\n",
    "#     recall = recall_score(y_test, y_pred)\n",
    "#     f1 = f1_score(y_test, y_pred)\n",
    "#     cohen_kappa = cohen_kappa_score(y_test, y_pred)\n",
    "\n",
    "#     if hasattr(classifier, \"predict_proba\"):\n",
    "#         y_proba = classifier.predict_proba(X_test)[:, 1]\n",
    "#         roc_auc = roc_auc_score(y_test, y_proba)\n",
    "#     else:\n",
    "#         roc_auc = np.nan\n",
    "    \n",
    "#     metrics.append([name, accuracy, precision, recall, f1, cohen_kappa, roc_auc])\n",
    "\n",
    "# # Print metrics in a table\n",
    "# metrics_df = pd.DataFrame(metrics, columns=['Classifier', 'Accuracy', 'Precision', 'Recall', 'F1 Score', 'Cohen Kappa', 'ROC AUC'])\n",
    "# print(metrics_df)\n",
    "\n",
    "\n",
    "# Calculate metrics for each classifier\n",
    "metrics = []\n",
    "kfold = KFold(n_splits=5, shuffle=True, random_state=42)\n",
    "\n",
    "for name, classifier in classifiers.items():\n",
    "    accuracy_scores = []\n",
    "    precision_scores = []\n",
    "    recall_scores = []\n",
    "    f1_scores = []\n",
    "    cohen_kappa_scores = []\n",
    "    roc_auc_scores = []\n",
    "    \n",
    "    for train_index, test_index in kfold.split(X):\n",
    "        X_train, X_test = X[train_index], X[test_index]\n",
    "        y_train, y_test = y[train_index], y[test_index]\n",
    "        \n",
    "        classifier.fit(X_train, y_train)\n",
    "        y_pred = classifier.predict(X_test)\n",
    "\n",
    "        accuracy = accuracy_score(y_test, y_pred)\n",
    "        precision = precision_score(y_test, y_pred)\n",
    "        recall = recall_score(y_test, y_pred)\n",
    "        f1 = f1_score(y_test, y_pred)\n",
    "        cohen_kappa = cohen_kappa_score(y_test, y_pred)\n",
    "\n",
    "        if hasattr(classifier, \"predict_proba\"):\n",
    "            y_proba = classifier.predict_proba(X_test)[:, 1]\n",
    "            roc_auc = roc_auc_score(y_test, y_proba)\n",
    "        else:\n",
    "            roc_auc = np.nan\n",
    "\n",
    "        accuracy_scores.append(accuracy)\n",
    "        precision_scores.append(precision)\n",
    "        recall_scores.append(recall)\n",
    "        f1_scores.append(f1)\n",
    "        cohen_kappa_scores.append(cohen_kappa)\n",
    "        roc_auc_scores.append(roc_auc)\n",
    "\n",
    "    accuracy_mean = np.mean(accuracy_scores)\n",
    "    precision_mean = np.mean(precision_scores)\n",
    "    recall_mean = np.mean(recall_scores)\n",
    "    f1_mean = np.mean(f1_scores)\n",
    "    cohen_kappa_mean = np.mean(cohen_kappa_scores)\n",
    "    roc_auc_mean = np.nanmean(roc_auc_scores)\n",
    "\n",
    "    metrics.append([name, accuracy_mean, precision_mean, recall_mean, f1_mean, cohen_kappa_mean, roc_auc_mean])\n",
    "\n",
    "# Print metrics in a table\n",
    "metrics_df = pd.DataFrame(metrics, columns=['Classifier', 'Accuracy', 'Precision', 'Recall', 'F1 Score', 'Cohen Kappa', 'ROC AUC'])\n",
    "print(metrics_df)\n"
   ]
  },
  {
   "cell_type": "code",
   "execution_count": null,
   "id": "d1c78b7c",
   "metadata": {},
   "outputs": [],
   "source": [
    "import pandas as pd\n",
    "\n",
    "# Assuming you have the metrics list as mentioned in the code\n",
    "\n",
    "# Sort the metrics list based on accuracy in descending order\n",
    "metrics.sort(key=lambda x: x[1], reverse=True)\n",
    "\n",
    "# Select the top 6 classifiers based on accuracy\n",
    "top_classifiers = metrics[:6]\n",
    "\n",
    "# Create a dataframe to display the top classifiers\n",
    "top_classifiers_df = pd.DataFrame(top_classifiers, columns=['Classifier', 'Accuracy', 'Precision', 'Recall', 'F1 Score', 'Cohen Kappa', 'ROC AUC'])\n",
    "\n",
    "# Print the top classifiers dataframe\n",
    "print(\"Top 6 Classifiers:\")\n",
    "print(top_classifiers_df)"
   ]
  },
  {
   "cell_type": "code",
   "execution_count": 35,
   "id": "be4d49d0",
   "metadata": {},
   "outputs": [
    {
     "data": {
      "image/png": "[encoded data removed]",
      "text/plain": [
       "<Figure size 1000x600 with 1 Axes>"
      ]
     },
     "metadata": {},
     "output_type": "display_data"
    },
    {
     "data": {
      "text/plain": [
       "<Figure size 640x480 with 0 Axes>"
      ]
     },
     "metadata": {},
     "output_type": "display_data"
    }
   ],
   "source": [
    "# Sort the metrics list based on accuracy in descending order\n",
    "metrics.sort(key=lambda x: x[4], reverse=True)\n",
    "\n",
    "# Select the top 5 classifiers based on accuracy\n",
    "top_classifiers = metrics[:5]\n",
    "classs=[classifier[0] for classifier in top_classifiers]\n",
    "\n",
    "top_5_scores = [classifier[4]*100 for classifier in top_classifiers]\n",
    " \n",
    "# Plot the graph\n",
    "plt.figure(figsize=(10, 6))\n",
    "plt.bar(classs, top_5_scores, color='purple')\n",
    "plt.xlabel(\"Classifiers\")\n",
    "plt.ylabel(\"F1 Score\")\n",
    "plt.title(\"Top 5 Classifiers by F1 Score\")\n",
    "plt.ylim(0, 110)\n",
    "plt.xticks(rotation=90)\n",
    "plt.show()\n",
    "plt.savefig(\"output1\", facecolor='y', bbox_inches=\"tight\",\n",
    "            pad_inches=0.3, transparent=True)\n",
    "#plt.savefig('kidney', transparent = False)"
   ]
  },
  {
   "cell_type": "code",
   "execution_count": null,
   "id": "12c13c2d",
   "metadata": {},
   "outputs": [],
   "source": [
    "metrics_df.to_excel('Eval.xlsx')"
   ]
  },
  {
   "cell_type": "code",
   "execution_count": null,
   "id": "bfbdee8b",
   "metadata": {},
   "outputs": [],
   "source": []
  }
 ],
 "metadata": {
  "kernelspec": {
   "display_name": "Python 3 (ipykernel)",
   "language": "python",
   "name": "python3"
  },
  "language_info": {
   "codemirror_mode": {
    "name": "ipython",
    "version": 3
   },
   "file_extension": ".py",
   "mimetype": "text/x-python",
   "name": "python",
   "nbconvert_exporter": "python",
   "pygments_lexer": "ipython3",
   "version": "3.10.9"
  }
 },
 "nbformat": 4,
 "nbformat_minor": 5
}
