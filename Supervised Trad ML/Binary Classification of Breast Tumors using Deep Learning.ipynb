{
 "cells": [
  {
   "cell_type": "markdown",
   "id": "faeffab9",
   "metadata": {},
   "source": [
    "## Binary Classification of Breast Tumors using Neural Networks (Deep Learning) with TensorFlow and Keras\n",
    "### Ali Al Bataineh, Ph.D."
   ]
  },
  {
   "cell_type": "markdown",
   "id": "7d78f02a",
   "metadata": {},
   "source": [
    "##### Building a neural network model with TensorFlow/Keras for the Breast Cancer Wisconsin (Diagnostic) dataset. This dataset is commonly used in machine learning for binary classification tasks - it involves predicting whether a tumor is malignant or benign."
   ]
  },
  {
   "cell_type": "code",
   "execution_count": 1,
   "id": "99dbbc76",
   "metadata": {
    "scrolled": true
   },
   "outputs": [],
   "source": [
    "#First, let's import the necessary Python libraries:\n",
    "\n",
    "from sklearn.datasets import load_breast_cancer\n",
    "from sklearn.model_selection import train_test_split\n",
    "from sklearn.preprocessing import StandardScaler\n",
    "from tensorflow.keras.models import Sequential\n",
    "from tensorflow.keras.layers import Dense"
   ]
  },
  {
   "cell_type": "code",
   "execution_count": 2,
   "id": "a16505a2",
   "metadata": {},
   "outputs": [],
   "source": [
    "#Now we will load the Breast Cancer dataset.\n",
    "\n",
    "# Load the dataset\n",
    "data = load_breast_cancer()\n",
    "\n",
    "# Split the dataset into features (X) and target (y)\n",
    "X = data.data\n",
    "y = data.target\n",
    "\n",
    "# Split the dataset into training set and test set\n",
    "X_train, X_test, y_train, y_test = train_test_split(X, y, test_size=0.2, random_state=42)\n",
    "\n",
    "# Scale the data to have mean = 0 and variance = 1 \n",
    "scaler = StandardScaler().fit(X_train)\n",
    "X_train = scaler.transform(X_train)\n",
    "X_test = scaler.transform(X_test)"
   ]
  },
  {
   "cell_type": "code",
   "execution_count": 3,
   "id": "f9d9f9d0",
   "metadata": {},
   "outputs": [],
   "source": [
    "#We'll use a simple feedforward neural network with two dense layers.\n",
    "#The final layer uses a sigmoid activation function to output a probability that the tumor is malignant.\n",
    "\n",
    "# Create a sequential model\n",
    "model = Sequential()\n",
    "\n",
    "# Add a fully connected layer with 32 units and ReLU activation\n",
    "model.add(Dense(32, activation='relu', input_dim=X_train.shape[1]))\n",
    "\n",
    "# Add another fully connected layer with 16 units and ReLU activation\n",
    "model.add(Dense(16, activation='relu'))\n",
    "\n",
    "# Add a final fully connected layer with a single unit and sigmoid activation\n",
    "model.add(Dense(1, activation='sigmoid'))"
   ]
  },
  {
   "cell_type": "code",
   "execution_count": 4,
   "id": "0f09d9ed",
   "metadata": {},
   "outputs": [
    {
     "data": {
      "text/plain": [
       "30"
      ]
     },
     "execution_count": 4,
     "metadata": {},
     "output_type": "execute_result"
    }
   ],
   "source": [
    "# this command always tell you the nenumber of features in your datasets.\n",
    "X_train.shape[1]"
   ]
  },
  {
   "cell_type": "code",
   "execution_count": 5,
   "id": "5fdc6d6d",
   "metadata": {},
   "outputs": [
    {
     "data": {
      "text/plain": [
       "455"
      ]
     },
     "execution_count": 5,
     "metadata": {},
     "output_type": "execute_result"
    }
   ],
   "source": [
    "#This code always tell you the number of your training instances/rows\n",
    "X_train.shape[0]"
   ]
  },
  {
   "cell_type": "code",
   "execution_count": 6,
   "id": "327f970e",
   "metadata": {},
   "outputs": [
    {
     "data": {
      "text/plain": [
       "(569, 30)"
      ]
     },
     "execution_count": 6,
     "metadata": {},
     "output_type": "execute_result"
    }
   ],
   "source": [
    "X.shape\n",
    "M: 1521\n",
    "T: 1537"
   ]
  },
  {
   "cell_type": "code",
   "execution_count": 7,
   "id": "987c23a1",
   "metadata": {},
   "outputs": [],
   "source": [
    "#Next, we'll compile our model by specifying the optimizer, loss function, and metrics we want to track.\n",
    "#Since this is a binary classification task, we'll use binary cross entropy as our loss function.\n",
    "\n",
    "model.compile(optimizer='adam', loss='binary_crossentropy', metrics=['accuracy'])\n"
   ]
  },
  {
   "cell_type": "code",
   "execution_count": 11,
   "id": "050bfe76",
   "metadata": {},
   "outputs": [
    {
     "name": "stdout",
     "output_type": "stream",
     "text": [
      "Model: \"sequential\"\n",
      "_________________________________________________________________\n",
      " Layer (type)                Output Shape              Param #   \n",
      "=================================================================\n",
      " dense (Dense)               (None, 32)                992       \n",
      "                                                                 \n",
      " dense_1 (Dense)             (None, 16)                528       \n",
      "                                                                 \n",
      " dense_2 (Dense)             (None, 1)                 17        \n",
      "                                                                 \n",
      "=================================================================\n",
      "Total params: 1,537\n",
      "Trainable params: 1,537\n",
      "Non-trainable params: 0\n",
      "_________________________________________________________________\n"
     ]
    }
   ],
   "source": [
    "model.summary()"
   ]
  },
  {
   "cell_type": "code",
   "execution_count": 17,
   "id": "52130059",
   "metadata": {},
   "outputs": [
    {
     "name": "stdout",
     "output_type": "stream",
     "text": [
      "Epoch 1/50\n",
      "8/8 [==============================] - 0s 8ms/step - loss: 0.0160 - accuracy: 0.9956 - val_loss: 0.0545 - val_accuracy: 0.9825\n",
      "Epoch 2/50\n",
      "8/8 [==============================] - 0s 6ms/step - loss: 0.0158 - accuracy: 0.9956 - val_loss: 0.0540 - val_accuracy: 0.9825\n",
      "Epoch 3/50\n",
      "8/8 [==============================] - 0s 5ms/step - loss: 0.0153 - accuracy: 0.9956 - val_loss: 0.0539 - val_accuracy: 0.9825\n",
      "Epoch 4/50\n",
      "8/8 [==============================] - 0s 5ms/step - loss: 0.0149 - accuracy: 0.9956 - val_loss: 0.0538 - val_accuracy: 0.9825\n",
      "Epoch 5/50\n",
      "8/8 [==============================] - 0s 4ms/step - loss: 0.0145 - accuracy: 0.9956 - val_loss: 0.0538 - val_accuracy: 0.9825\n",
      "Epoch 6/50\n",
      "8/8 [==============================] - 0s 4ms/step - loss: 0.0143 - accuracy: 0.9956 - val_loss: 0.0538 - val_accuracy: 0.9825\n",
      "Epoch 7/50\n",
      "8/8 [==============================] - 0s 4ms/step - loss: 0.0142 - accuracy: 0.9956 - val_loss: 0.0540 - val_accuracy: 0.9825\n",
      "Epoch 8/50\n",
      "8/8 [==============================] - 0s 4ms/step - loss: 0.0138 - accuracy: 0.9956 - val_loss: 0.0545 - val_accuracy: 0.9825\n"
     ]
    }
   ],
   "source": [
    "from tensorflow.keras.callbacks import EarlyStopping\n",
    "\n",
    "# Define early stopping\n",
    "early_stopping = EarlyStopping(monitor='val_loss', patience=3)\n",
    "# Train the model\n",
    "history=model.fit(X_train, y_train, epochs=50, batch_size=64, validation_data=(X_test, y_test), \n",
    "                    callbacks=[early_stopping])"
   ]
  },
  {
   "cell_type": "markdown",
   "id": "bdd13ba1",
   "metadata": {},
   "source": [
    "### Implementing Early Stopping\n",
    "\n",
    "Early stopping can be implemented in Keras using callbacks. A callback is a set of functions to be applied at given stages of the training process.  \n",
    "\n",
    "The EarlyStopping callback monitors the validation loss (val_loss). If the validation loss does not improve for 10 epochs (patience=10), the training process will be stopped. You can adjust these parameters based on your specific needs.\n",
    "\n",
    "Remember that using these techniques does not always guarantee better performance, but they are commonly used practices to prevent overfitting."
   ]
  },
  {
   "cell_type": "markdown",
   "id": "c5ee5451",
   "metadata": {},
   "source": [
    "After fitting the model, it returns a History object. This object holds a record of the loss values and metric values during training. We can use this data to generate plots of accuracy and loss over time. Here's how:"
   ]
  },
  {
   "cell_type": "code",
   "execution_count": 18,
   "id": "2a76e53a",
   "metadata": {},
   "outputs": [
    {
     "data": {
      "image/png": "[encoded data removed]",
      "text/plain": [
       "<Figure size 1200x400 with 2 Axes>"
      ]
     },
     "metadata": {},
     "output_type": "display_data"
    }
   ],
   "source": [
    "import matplotlib.pyplot as plt\n",
    "\n",
    "# Plot training & validation accuracy values\n",
    "plt.figure(figsize=(12, 4))\n",
    "plt.subplot(1, 2, 1)\n",
    "plt.plot(history.history['accuracy'])\n",
    "plt.plot(history.history['val_accuracy'])\n",
    "plt.title('Model accuracy')\n",
    "plt.ylabel('Accuracy')\n",
    "plt.xlabel('Epoch')\n",
    "plt.legend(['Train', 'Test'], loc='upper left')\n",
    "\n",
    "# Plot training & validation loss values\n",
    "plt.subplot(1, 2, 2)\n",
    "plt.plot(history.history['loss'])\n",
    "plt.plot(history.history['val_loss'])\n",
    "plt.title('Model loss')\n",
    "plt.ylabel('Loss')\n",
    "plt.xlabel('Epoch')\n",
    "plt.legend(['Train', 'Test'], loc='upper left')\n",
    "\n",
    "plt.tight_layout()\n",
    "plt.show()"
   ]
  },
  {
   "cell_type": "code",
   "execution_count": 19,
   "id": "0aabd32b",
   "metadata": {},
   "outputs": [
    {
     "name": "stdout",
     "output_type": "stream",
     "text": [
      "4/4 [==============================] - 0s 1ms/step - loss: 0.0545 - accuracy: 0.9825\n",
      "Test Accuracy: 0.9824561476707458\n"
     ]
    }
   ],
   "source": [
    "#We'll evaluate the model's performance on our test data:\n",
    "loss, accuracy = model.evaluate(X_test, y_test)\n",
    "print('Test Accuracy:', accuracy)"
   ]
  },
  {
   "cell_type": "markdown",
   "id": "8e2d5fdd",
   "metadata": {},
   "source": [
    "That's it! You've built a neural network with Keras and TensorFlow for binary classification on the Breast Cancer dataset. Remember, this is a simple model. There are many ways to expand from here, such as adding more layers, changing layer parameters, or experimenting with different types of layers."
   ]
  },
  {
   "cell_type": "code",
   "execution_count": null,
   "id": "0ac95a3d",
   "metadata": {},
   "outputs": [],
   "source": [
    "from tensorflow.keras.layers import Input, Dense\n",
    "from tensorflow.keras.models import Model\n",
    "\n",
    "# Define the input shape\n",
    "inputs = Input(shape=(X_train.shape[1],))\n",
    "\n",
    "# Define the layers and connect them\n",
    "x = Dense(32, activation='relu')(inputs)\n",
    "x = Dense(16, activation='relu')(x)\n",
    "outputs = Dense(1, activation='sigmoid')(x)\n",
    "\n",
    "# Define the model\n",
    "model = Model(inputs=inputs, outputs=outputs)\n",
    "\n",
    "\n",
    "\n",
    "# Create a sequential model\n",
    "model = Sequential()\n",
    "\n",
    "# Add a fully connected layer with 32 units and ReLU activation\n",
    "model.add(Dense(32, activation='relu', input_dim=X_train.shape[1]))\n",
    "\n",
    "# Add another fully connected layer with 16 units and ReLU activation\n",
    "model.add(Dense(16, activation='relu'))\n",
    "\n",
    "# Add a final fully connected layer with a single unit and sigmoid activation\n",
    "model.add(Dense(1, activation='sigmoid'))\n"
   ]
  },
  {
   "cell_type": "markdown",
   "id": "1f08cf8d",
   "metadata": {},
   "source": [
    "In the functional API, you explicitly define the inputs and outputs for each layer. This gives more flexibility and allows for more complex models, such as models with multiple inputs or outputs, or models with shared layers.\n",
    "\n",
    "The first layer in the model is the Input layer, which defines the shape of the input data (in this case, the number of features in your training data). Then, each subsequent layer is a function call that takes the previous layer as input. Finally, the Model class is used to define the model, taking the inputs and outputs as arguments.\n",
    "\n",
    "Apart from the way it's written, this model is functionally equivalent to the one defined using the Sequential API. It has the same architecture and will produce the same results when trained and evaluated."
   ]
  },
  {
   "cell_type": "markdown",
   "id": "c4e20742",
   "metadata": {},
   "source": [
    "# Adding Dropout Layer\n",
    "A dropout layer can be added right after the dense (fully connected) layers in the model.\n",
    "dropout randomly sets a fraction of input units to 0 at each update during training time, which helps prevent overfitting."
   ]
  },
  {
   "cell_type": "code",
   "execution_count": null,
   "id": "102fd432",
   "metadata": {},
   "outputs": [],
   "source": [
    "from tensorflow.keras.layers import Dropout\n",
    "\n",
    "# Define the input shape\n",
    "inputs = Input(shape=(X_train.shape[1],))\n",
    "\n",
    "# Define the layers and connect them\n",
    "x = Dense(32, activation='relu')(inputs)\n",
    "x = Dropout(0.5)(x)  # Add dropout layer after first dense layer\n",
    "x = Dense(16, activation='relu')(x)\n",
    "x = Dropout(0.5)(x)  # Add dropout layer after second dense layer\n",
    "outputs = Dense(1, activation='sigmoid')(x)\n",
    "\n",
    "# Define the model\n",
    "model = Model(inputs=inputs, outputs=outputs)\n"
   ]
  },
  {
   "cell_type": "code",
   "execution_count": null,
   "id": "378f1fe8",
   "metadata": {},
   "outputs": [],
   "source": []
  }
 ],
 "metadata": {
  "kernelspec": {
   "display_name": "Python 3 (ipykernel)",
   "language": "python",
   "name": "python3"
  },
  "language_info": {
   "codemirror_mode": {
    "name": "ipython",
    "version": 3
   },
   "file_extension": ".py",
   "mimetype": "text/x-python",
   "name": "python",
   "nbconvert_exporter": "python",
   "pygments_lexer": "ipython3",
   "version": "3.10.9"
  },
  "varInspector": {
   "cols": {
    "lenName": 16,
    "lenType": 16,
    "lenVar": 40
   },
   "kernels_config": {
    "python": {
     "delete_cmd_postfix": "",
     "delete_cmd_prefix": "del ",
     "library": "var_list.py",
     "varRefreshCmd": "print(var_dic_list())"
    },
    "r": {
     "delete_cmd_postfix": ") ",
     "delete_cmd_prefix": "rm(",
     "library": "var_list.r",
     "varRefreshCmd": "cat(var_dic_list()) "
    }
   },
   "types_to_exclude": [
    "module",
    "function",
    "builtin_function_or_method",
    "instance",
    "_Feature"
   ],
   "window_display": false
  }
 },
 "nbformat": 4,
 "nbformat_minor": 5
}
