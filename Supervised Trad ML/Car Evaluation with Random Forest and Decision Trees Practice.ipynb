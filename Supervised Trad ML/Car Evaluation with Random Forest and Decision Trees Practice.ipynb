{
 "cells": [
  {
   "cell_type": "code",
   "execution_count": 1,
   "id": "1fad9f4a",
   "metadata": {},
   "outputs": [],
   "source": [
    "import numpy as np\n",
    "import pandas as pd"
   ]
  },
  {
   "cell_type": "markdown",
   "id": "f6089fc5",
   "metadata": {},
   "source": [
    "Read the dataset and convert it into a dataframe then drop car and model columns"
   ]
  },
  {
   "cell_type": "code",
   "execution_count": 2,
   "id": "f60ac708",
   "metadata": {
    "scrolled": false
   },
   "outputs": [],
   "source": [
    "dataset = pd.read_csv('cars.csv')\n",
    "dataset=dataset.drop(['Car', 'Model'], axis = 1).head()\n",
    "# dataset.head()"
   ]
  },
  {
   "cell_type": "code",
   "execution_count": 3,
   "id": "4116cd0d",
   "metadata": {},
   "outputs": [],
   "source": [
    "# alternate way to remove columns:\n",
    "# dataset.iloc[:, 2:].head()"
   ]
  },
  {
   "cell_type": "code",
   "execution_count": 4,
   "id": "21c7e25b",
   "metadata": {},
   "outputs": [
    {
     "data": {
      "text/html": [
       "<div>\n",
       "<style scoped>\n",
       "    .dataframe tbody tr th:only-of-type {\n",
       "        vertical-align: middle;\n",
       "    }\n",
       "\n",
       "    .dataframe tbody tr th {\n",
       "        vertical-align: top;\n",
       "    }\n",
       "\n",
       "    .dataframe thead th {\n",
       "        text-align: right;\n",
       "    }\n",
       "</style>\n",
       "<table border=\"1\" class=\"dataframe\">\n",
       "  <thead>\n",
       "    <tr style=\"text-align: right;\">\n",
       "      <th></th>\n",
       "      <th>Volume</th>\n",
       "      <th>Weight</th>\n",
       "      <th>CO2</th>\n",
       "    </tr>\n",
       "  </thead>\n",
       "  <tbody>\n",
       "    <tr>\n",
       "      <th>0</th>\n",
       "      <td>1000</td>\n",
       "      <td>790</td>\n",
       "      <td>99</td>\n",
       "    </tr>\n",
       "    <tr>\n",
       "      <th>1</th>\n",
       "      <td>1200</td>\n",
       "      <td>1160</td>\n",
       "      <td>95</td>\n",
       "    </tr>\n",
       "    <tr>\n",
       "      <th>2</th>\n",
       "      <td>1000</td>\n",
       "      <td>929</td>\n",
       "      <td>95</td>\n",
       "    </tr>\n",
       "    <tr>\n",
       "      <th>3</th>\n",
       "      <td>900</td>\n",
       "      <td>865</td>\n",
       "      <td>90</td>\n",
       "    </tr>\n",
       "    <tr>\n",
       "      <th>4</th>\n",
       "      <td>1500</td>\n",
       "      <td>1140</td>\n",
       "      <td>105</td>\n",
       "    </tr>\n",
       "  </tbody>\n",
       "</table>\n",
       "</div>"
      ],
      "text/plain": [
       "   Volume  Weight  CO2\n",
       "0    1000     790   99\n",
       "1    1200    1160   95\n",
       "2    1000     929   95\n",
       "3     900     865   90\n",
       "4    1500    1140  105"
      ]
     },
     "execution_count": 4,
     "metadata": {},
     "output_type": "execute_result"
    }
   ],
   "source": [
    "dataset.head()"
   ]
  },
  {
   "cell_type": "markdown",
   "id": "db20009c",
   "metadata": {},
   "source": [
    "Split the Features from the True values"
   ]
  },
  {
   "cell_type": "code",
   "execution_count": 5,
   "id": "c0b12caf",
   "metadata": {},
   "outputs": [],
   "source": [
    "# Split Features from True values\n",
    "X = dataset.iloc[:, :-1].values\n",
    "y = dataset.iloc[:, -1].values"
   ]
  },
  {
   "cell_type": "markdown",
   "id": "cd860e5a",
   "metadata": {},
   "source": [
    "Use the train test split function to split and separate the training set from the testing set"
   ]
  },
  {
   "cell_type": "code",
   "execution_count": 6,
   "id": "059631d4",
   "metadata": {},
   "outputs": [],
   "source": [
    "#I'm defining training and testing variables using train_test_split function\n",
    "from sklearn.model_selection import train_test_split\n",
    "#implement train_test_split to a test ratio of 0.30 and then 0.25; compare end accuracy scores for both\n",
    "X_train, X_test, y_train, y_test = train_test_split(X, y, test_size = 0.3, random_state = 42)\n",
    "X1_train, X1_test, y1_train, y1_test = train_test_split(X, y, test_size = 0.25, random_state = 42)"
   ]
  },
  {
   "cell_type": "markdown",
   "id": "5b96a445",
   "metadata": {},
   "source": [
    "Use an ordinal encoder to turn the strings into numerical values"
   ]
  },
  {
   "cell_type": "code",
   "execution_count": 7,
   "id": "75d803b3",
   "metadata": {},
   "outputs": [],
   "source": [
    "from sklearn.preprocessing import StandardScaler\n",
    "\n",
    "scaler = StandardScaler()\n",
    "X_train = scaler.fit_transform(X_train)\n",
    "X_test = scaler.transform(X_test)\n",
    "\n",
    "X1_train = scaler.fit_transform(X1_train)\n",
    "X1_test = scaler.transform(X1_test)"
   ]
  },
  {
   "cell_type": "markdown",
   "id": "08faeddd",
   "metadata": {},
   "source": [
    "Use Random Forest Classifier to fit the training Features to the training True values"
   ]
  },
  {
   "cell_type": "code",
   "execution_count": 8,
   "id": "1bf78f3e",
   "metadata": {},
   "outputs": [
    {
     "name": "stdout",
     "output_type": "stream",
     "text": [
      "Random Forest accuracy score with 10 decision-trees at 30% testing: 0.5000\n",
      "Random Forest accuracy score with 10 decision-trees at 25% testing: 0.5000\n"
     ]
    }
   ],
   "source": [
    "from sklearn.ensemble import RandomForestClassifier\n",
    "rf = RandomForestClassifier(random_state=42)\n",
    "rf.fit(X_train, y_train)\n",
    "y_pred=rf.predict(X_test)\n",
    "\n",
    "rf.fit(X1_train, y1_train)\n",
    "y1_pred=rf.predict(X1_test)\n",
    "\n",
    "from sklearn.metrics import accuracy_score \n",
    "print('Random Forest accuracy score with 10 decision-trees at 30% testing: {0:0.4f}'.format(accuracy_score(y_test, y_pred)))\n",
    "print('Random Forest accuracy score with 10 decision-trees at 25% testing: {0:0.4f}'.format(accuracy_score(y1_test, y1_pred)))"
   ]
  },
  {
   "cell_type": "markdown",
   "id": "de8f076d",
   "metadata": {},
   "source": [
    "Implement the same thing but using Decision Tree Classifier and evaluate results with accuracy metric"
   ]
  },
  {
   "cell_type": "code",
   "execution_count": 9,
   "id": "f9801050",
   "metadata": {},
   "outputs": [
    {
     "name": "stdout",
     "output_type": "stream",
     "text": [
      "Decision Tree accuracy score with 10 decision-trees at 30% testing: 0.5000\n",
      "Decision Tree accuracy score with 10 decision-trees at 25% testing: 0.5000\n"
     ]
    }
   ],
   "source": [
    "#now implement the algorithm DecisionTreeClassifier \n",
    "from sklearn.tree import DecisionTreeClassifier \n",
    "dt = DecisionTreeClassifier(random_state=42)\n",
    "\n",
    "dt.fit(X_train, y_train)\n",
    "y_pred=dt.predict(X_test)\n",
    "\n",
    "dt.fit(X1_train, y1_train)\n",
    "y1_pred=dt.predict(X1_test)\n",
    "\n",
    "from sklearn.metrics import accuracy_score \n",
    "print('Decision Tree accuracy score with 10 decision-trees at 30% testing: {0:0.4f}'.format(accuracy_score(y_test, y_pred)))\n",
    "print('Decision Tree accuracy score with 10 decision-trees at 25% testing: {0:0.4f}'.format(accuracy_score(y1_test, y1_pred)))\n",
    "#test accuracy as in my code"
   ]
  },
  {
   "cell_type": "markdown",
   "id": "cf46f79b",
   "metadata": {},
   "source": [
    "Random Tree Forest: accuracy is affected by test size (more data tested = more accurate)\n",
    "Decision Tree: accuracy is not affected by test size"
   ]
  },
  {
   "cell_type": "code",
   "execution_count": null,
   "id": "2eec417d",
   "metadata": {},
   "outputs": [],
   "source": []
  }
 ],
 "metadata": {
  "kernelspec": {
   "display_name": "Python 3 (ipykernel)",
   "language": "python",
   "name": "python3"
  },
  "language_info": {
   "codemirror_mode": {
    "name": "ipython",
    "version": 3
   },
   "file_extension": ".py",
   "mimetype": "text/x-python",
   "name": "python",
   "nbconvert_exporter": "python",
   "pygments_lexer": "ipython3",
   "version": "3.10.9"
  },
  "varInspector": {
   "cols": {
    "lenName": 16,
    "lenType": 16,
    "lenVar": 40
   },
   "kernels_config": {
    "python": {
     "delete_cmd_postfix": "",
     "delete_cmd_prefix": "del ",
     "library": "var_list.py",
     "varRefreshCmd": "print(var_dic_list())"
    },
    "r": {
     "delete_cmd_postfix": ") ",
     "delete_cmd_prefix": "rm(",
     "library": "var_list.r",
     "varRefreshCmd": "cat(var_dic_list()) "
    }
   },
   "types_to_exclude": [
    "module",
    "function",
    "builtin_function_or_method",
    "instance",
    "_Feature"
   ],
   "window_display": false
  }
 },
 "nbformat": 4,
 "nbformat_minor": 5
}
