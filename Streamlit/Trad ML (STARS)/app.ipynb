{
 "cells": [
  {
   "cell_type": "code",
   "execution_count": 5,
   "id": "a1b83bf4",
   "metadata": {},
   "outputs": [
    {
     "data": {
      "text/plain": [
       "False"
      ]
     },
     "execution_count": 5,
     "metadata": {},
     "output_type": "execute_result"
    }
   ],
   "source": [
    "import streamlit as st\n",
    "from sklearn.preprocessing import StandardScaler\n",
    "import numpy as np\n",
    "import pandas as pd\n",
    "import joblib\n",
    "\n",
    "model = joblib.load('Stars_model.joblib')\n",
    "scaler = StandardScaler()\n",
    "\n",
    "st.title(\"What type of Star is it? ✨\")\n",
    "Temperature = st.slider(\"Input the Temperature in Kelvin\", 1939, 40000)\n",
    "L = st.slider(\"Input the Relative Luminosity\", 0, 849000)\n",
    "R = st.slider(\"what is the Relative Radius\", 0.01, 1950.0)\n",
    "A_M = st.slider(\"Provide the Absolute Magnitude\", -11.9, 20.1)\n",
    "Color = st.select_slider(\"Select the General Observable color\", [\n",
    "    'Red', 'Blue White', 'White', 'Yellowish White', 'Blue white',\n",
    "    'Pale yellow orange', 'Blue', 'Blue-white', 'Whitish', 'yellow-white',\n",
    "    'Orange', 'White-Yellow', 'white', 'yellowish', 'Yellowish', 'Orange-Red',\n",
    "    'Blue-White'\n",
    "])\n",
    "Spectral_Class = st.select_slider(\"Select the SMASS Spectral Class\", ['M', 'B', 'A', 'F', 'O', 'K', 'G'])\n",
    "\n",
    "\n",
    "def predict():\n",
    "    row = np.array([Temperature, L, R, A_M, Color, Spectral_Class])\n",
    "    X = pd.DataFrame([row], columns=['Temperature', 'L', 'R', 'A_M', 'Color', 'Spectral_Class', 'Type'])\n",
    "    X = scaler.transform(X)\n",
    "    prediction = model.predict(X)[0]\n",
    "\n",
    "    if prediction == 0:\n",
    "        st.success(\"Based on your inputs, your STAR is a:\\n Red Dwarf\")\n",
    "    if prediction == 1:\n",
    "        st.success(\"Based on your inputs, your STAR is a:\\n Brown Dwarf\")\n",
    "    if prediction == 2:\n",
    "        st.success(\"Based on your inputs, your STAR is a:\\n White Dwarf\")\n",
    "    if prediction == 3:\n",
    "        st.success(\"Based on your inputs, your STAR is a:\\n Main Sequence\")\n",
    "    if prediction == 4:\n",
    "        st.success(\"Based on your inputs, your STAR is a:\\n Super Giants\")\n",
    "    if prediction == 5:\n",
    "        st.success(\"Based on your inputs, your STAR is a:\\n Hyper Giants\")\n",
    "\n",
    "\n",
    "st.button(\"Predict\", on_click=predict)\n",
    "\n",
    "# Relative Luminosity\n",
    "# Relative Radius\n",
    "# Absolute Magnitude\n",
    "# General Observable Color\n",
    "# SMASS Spectral Class\n",
    "# Type of Star"
   ]
  },
  {
   "cell_type": "code",
   "execution_count": null,
   "id": "262fe54b",
   "metadata": {},
   "outputs": [],
   "source": [
    "!streamlit run app.py"
   ]
  },
  {
   "cell_type": "code",
   "execution_count": null,
   "id": "8ee4f0c6",
   "metadata": {},
   "outputs": [],
   "source": []
  }
 ],
 "metadata": {
  "kernelspec": {
   "display_name": "Python 3 (ipykernel)",
   "language": "python",
   "name": "python3"
  },
  "language_info": {
   "codemirror_mode": {
    "name": "ipython",
    "version": 3
   },
   "file_extension": ".py",
   "mimetype": "text/x-python",
   "name": "python",
   "nbconvert_exporter": "python",
   "pygments_lexer": "ipython3",
   "version": "3.10.9"
  },
  "varInspector": {
   "cols": {
    "lenName": 16,
    "lenType": 16,
    "lenVar": 40
   },
   "kernels_config": {
    "python": {
     "delete_cmd_postfix": "",
     "delete_cmd_prefix": "del ",
     "library": "var_list.py",
     "varRefreshCmd": "print(var_dic_list())"
    },
    "r": {
     "delete_cmd_postfix": ") ",
     "delete_cmd_prefix": "rm(",
     "library": "var_list.r",
     "varRefreshCmd": "cat(var_dic_list()) "
    }
   },
   "types_to_exclude": [
    "module",
    "function",
    "builtin_function_or_method",
    "instance",
    "_Feature"
   ],
   "window_display": false
  }
 },
 "nbformat": 4,
 "nbformat_minor": 5
}
